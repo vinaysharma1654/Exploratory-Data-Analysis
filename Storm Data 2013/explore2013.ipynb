{
 "cells": [
  {
   "cell_type": "markdown",
   "metadata": {},
   "source": [
    "# Exploring Storm Data 2013 "
   ]
  },
  {
   "cell_type": "code",
   "execution_count": 1,
   "metadata": {},
   "outputs": [],
   "source": [
    "import pandas as pd\n",
    "from matplotlib import pyplot as plt"
   ]
  },
  {
   "cell_type": "markdown",
   "metadata": {},
   "source": [
    "Importing storm data from a csv file"
   ]
  },
  {
   "cell_type": "code",
   "execution_count": 2,
   "metadata": {},
   "outputs": [],
   "source": [
    "storm_file_path = \"...StormEvents/StormEvents_2013.csv\"\n",
    "storm_data = pd.read_csv(storm_file_path)"
   ]
  },
  {
   "cell_type": "markdown",
   "metadata": {},
   "source": [
    "Listing out columns in the pd dataframe"
   ]
  },
  {
   "cell_type": "code",
   "execution_count": 3,
   "metadata": {},
   "outputs": [
    {
     "data": {
      "text/plain": [
       "Index(['EpisodeID', 'Event_ID', 'State', 'Year', 'Month', 'Event_Type',\n",
       "       'Begin_Date_Time', 'Timezone', 'End_Date_Time', 'Injuries_Direct',\n",
       "       'Injuries_Indirect', 'Deaths_Direct', 'Deaths_Indirect',\n",
       "       'Damage_Property', 'Property_Cost', 'Damage_Crops', 'Crop_Cost',\n",
       "       'Begin_Lat', 'Begin_Lon', 'End_Lat', 'End_Lon', 'Episode_Narrative',\n",
       "       'Event_Narrative'],\n",
       "      dtype='object')"
      ]
     },
     "execution_count": 3,
     "metadata": {},
     "output_type": "execute_result"
    }
   ],
   "source": [
    "storm_data.columns"
   ]
  },
  {
   "cell_type": "markdown",
   "metadata": {},
   "source": [
    "Now we shall only use the columns we will be needing in our exploration"
   ]
  },
  {
   "cell_type": "code",
   "execution_count": 4,
   "metadata": {},
   "outputs": [],
   "source": [
    "cols = ['State', 'Year', 'Month', 'Event_Type', 'Injuries_Direct','Injuries_Indirect', 'Deaths_Direct', 'Deaths_Indirect','Damage_Property', 'Property_Cost', 'Damage_Crops', 'Crop_Cost', 'Episode_Narrative','Event_Narrative']"
   ]
  },
  {
   "cell_type": "code",
   "execution_count": 5,
   "metadata": {},
   "outputs": [],
   "source": [
    "storm_data=storm_data[cols]"
   ]
  },
  {
   "cell_type": "markdown",
   "metadata": {},
   "source": [
    "To count **the number of storms** month wise we will have to list the months in a sorted order.<br>\n",
    "We shall be using simple bar plots in this scenario."
   ]
  },
  {
   "cell_type": "code",
   "execution_count": 6,
   "metadata": {},
   "outputs": [],
   "source": [
    "months = storm_data.Month.unique()\n",
    "months = list(months)\n",
    "months.sort()"
   ]
  },
  {
   "cell_type": "markdown",
   "metadata": {},
   "source": [
    "Drawing a **bar plot**"
   ]
  },
  {
   "cell_type": "code",
   "execution_count": 7,
   "metadata": {},
   "outputs": [
    {
     "data": {
      "image/png": "[encoded data removed]",
      "text/plain": [
       "<Figure size 432x288 with 1 Axes>"
      ]
     },
     "metadata": {
      "needs_background": "light"
     },
     "output_type": "display_data"
    }
   ],
   "source": [
    "bar1 = storm_data.groupby(['Month']).size()\n",
    "plt.bar(months, bar1,align='center')\n",
    "plt.tick_params(axis=\"x\", labelsize=6)\n",
    "plt.show()"
   ]
  },
  {
   "cell_type": "markdown",
   "metadata": {},
   "source": [
    "Similarly we can plot the **property damage cost** month-wise"
   ]
  },
  {
   "cell_type": "code",
   "execution_count": 8,
   "metadata": {},
   "outputs": [
    {
     "data": {
      "image/png": "[encoded data removed]",
      "text/plain": [
       "<Figure size 432x288 with 1 Axes>"
      ]
     },
     "metadata": {
      "needs_background": "light"
     },
     "output_type": "display_data"
    }
   ],
   "source": [
    "bar2 = storm_data[['Property_Cost', 'Month']].groupby(['Month']).sum().reset_index().sort_values(['Month',\n",
    "        'Property_Cost'], ascending=[True, False])\n",
    "\n",
    "plt.bar(bar2['Month'], bar2['Property_Cost'])\n",
    "plt.tick_params(axis=\"x\", labelsize=6)\n",
    "plt.show()"
   ]
  },
  {
   "cell_type": "markdown",
   "metadata": {},
   "source": [
    "**Crop damage cost** month-wise"
   ]
  },
  {
   "cell_type": "code",
   "execution_count": 9,
   "metadata": {},
   "outputs": [
    {
     "data": {
      "image/png": "[encoded data removed]",
      "text/plain": [
       "<Figure size 432x288 with 1 Axes>"
      ]
     },
     "metadata": {
      "needs_background": "light"
     },
     "output_type": "display_data"
    }
   ],
   "source": [
    "bar3 = storm_data[['Crop_Cost', 'Month']].groupby(['Month']).sum().reset_index().sort_values(['Month', 'Crop_Cost'],\n",
    "                                                                                             ascending=[True, False])\n",
    "\n",
    "plt.bar(bar3['Month'], bar3['Crop_Cost'])\n",
    "plt.tick_params(axis=\"x\", labelsize=6)\n",
    "plt.show()"
   ]
  },
  {
   "cell_type": "markdown",
   "metadata": {},
   "source": [
    "The sum total of property and crop damage done by the storms.<br>\n",
    "For this purpose we need to add a new column to our dataframe."
   ]
  },
  {
   "cell_type": "code",
   "execution_count": 10,
   "metadata": {},
   "outputs": [],
   "source": [
    "total_cost=[]\n",
    "l1=list(storm_data['Property_Cost'])\n",
    "l2=list(storm_data['Crop_Cost'])\n",
    "for i in range(len(list(storm_data['Property_Cost']))):\n",
    "    total_cost.append(l1[i]+l2[i])\n",
    "\n",
    "storm_data['Total_Cost'] = total_cost"
   ]
  },
  {
   "cell_type": "markdown",
   "metadata": {},
   "source": [
    "**Plotting**"
   ]
  },
  {
   "cell_type": "code",
   "execution_count": 11,
   "metadata": {},
   "outputs": [
    {
     "data": {
      "image/png": "[encoded data removed]",
      "text/plain": [
       "<Figure size 432x288 with 1 Axes>"
      ]
     },
     "metadata": {
      "needs_background": "light"
     },
     "output_type": "display_data"
    }
   ],
   "source": [
    "bar4 = storm_data[['Total_Cost', 'Month']].groupby(['Month']).sum().reset_index().sort_values(['Month',\n",
    "                                    'Total_Cost'], ascending=[True,False])\n",
    "\n",
    "plt.bar(bar4['Month'], bar4['Total_Cost'])\n",
    "plt.tick_params(axis=\"x\", labelsize=6)\n",
    "plt.show()"
   ]
  },
  {
   "cell_type": "code",
   "execution_count": null,
   "metadata": {},
   "outputs": [],
   "source": []
  }
 ],
 "metadata": {
  "kernelspec": {
   "display_name": "Python 3",
   "language": "python",
   "name": "python3"
  },
  "language_info": {
   "codemirror_mode": {
    "name": "ipython",
    "version": 3
   },
   "file_extension": ".py",
   "mimetype": "text/x-python",
   "name": "python",
   "nbconvert_exporter": "python",
   "pygments_lexer": "ipython3",
   "version": "3.6.5"
  }
 },
 "nbformat": 4,
 "nbformat_minor": 2
}
